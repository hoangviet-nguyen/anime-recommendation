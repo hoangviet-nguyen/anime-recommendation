{
 "cells": [
  {
   "cell_type": "markdown",
   "metadata": {},
   "source": [
    "### Data Exploration of the Anime Dataset\n",
    "\n",
    "In this notebook, we explore the [Anime Dataset 2023](https://www.kaggle.com/datasets/dbdmobile/myanimelist-dataset?select=users-score-2023.csv) to gain insights and prepare for training a recommendation model. The key objectives are:\n",
    "\n",
    "- Understand the structure and content of the dataset.\n",
    "- Experiment with different analyses to identify patterns or trends.\n",
    "- Assess whether other models can be applied to this dataset.\n",
    "  \n",
    "The final goal is to use these insights to train a recommendation model, which will be done in the [Model Notebook](./model.ipynb).\n"
   ]
  },
  {
   "cell_type": "code",
   "execution_count": 1,
   "metadata": {},
   "outputs": [
    {
     "name": "stdout",
     "output_type": "stream",
     "text": [
      "/bin/bash: line 1: python: command not found\n"
     ]
    }
   ],
   "source": [
    "# download the data from the kaggle api\n",
    "!python download.py"
   ]
  },
  {
   "cell_type": "code",
   "execution_count": 2,
   "metadata": {},
   "outputs": [],
   "source": [
    "import numpy as np\n",
    "import pandas as pd\n",
    "import matplotlib.pyplot as plt \n",
    "from typing import Tuple, Dict\n",
    "import os"
   ]
  },
  {
   "cell_type": "markdown",
   "metadata": {},
   "source": [
    "# Dataset Description\n",
    "\n",
    "This dataset provides extensive information on anime series and is sourced from the popular website MyAnimeList. It includes a wide variety of features related to anime titles, such as rankings, user ratings, genres, and other metadata that are essential for exploring trends and analyzing patterns in anime consumption.\n",
    "\n",
    "For more details and access to the dataset, please visit the following link: [MyAnimeList Dataset on Kaggle](https://www.kaggle.com/datasets/dbdmobile/myanimelist-dataset).\n",
    "\n",
    "Please consider supporting the original author by acknowledging their work and adhering to any usage guidelines outlined in the dataset's licensing agreement.\n",
    "\n",
    "\n",
    "## Content\n",
    "\n",
    "### anime-dataset-2023.csv\n",
    "\n",
    "- **anime_id**: Unique ID for each anime.\n",
    "- **Name**: The name of the anime in its original language.\n",
    "- **English name**: The English name of the anime.\n",
    "- **Other name**: Native name or title of the anime (can be in Japanese, Chinese, or Korean).\n",
    "- **Score**: The score or rating given to the anime.\n",
    "- **Genres**: The genres of the anime, separated by commas.\n",
    "- **Synopsis**: A brief description or summary of the anime's plot.\n",
    "- **Type**: The type of the anime (e.g., TV series, movie, OVA, etc.).\n",
    "- **Episodes**: The number of episodes in the anime.\n",
    "- **Aired**: The dates when the anime was aired.\n",
    "- **Premiered**: The season and year when the anime premiered.\n",
    "- **Status**: The status of the anime (e.g., Finished Airing, Currently Airing, etc.).\n",
    "- **Producers**: The production companies or producers of the anime.\n",
    "- **Licensors**: The licensors of the anime (e.g., streaming platforms).\n",
    "- **Studios**: The animation studios that worked on the anime.\n",
    "- **Source**: The source material of the anime (e.g., manga, light novel, original).\n",
    "- **Duration**: The duration of each episode.\n",
    "- **Rating**: The age rating of the anime.\n",
    "- **Rank**: The rank of the anime based on popularity or other criteria.\n",
    "- **Popularity**: The popularity rank of the anime.\n",
    "- **Favorites**: The number of times the anime was marked as a favorite by users.\n",
    "- **Scored By**: The number of users who scored the anime.\n",
    "- **Members**: The number of members who have added the anime to their list on the platform.\n",
    "- **Image URL**: The URL of the anime's image or poster.\n",
    "\n",
    "### users-details-2023.csv\n",
    "\n",
    "- **Mal ID**: Unique ID for each user.\n",
    "- **Username**: The username of the user.\n",
    "- **Gender**: The gender of the user.\n",
    "- **Birthday**: The birthday of the user (in ISO format).\n",
    "- **Location**: The location or country of the user.\n",
    "- **Joined**: The date when the user joined the platform (in ISO format).\n",
    "- **Days Watched**: The total number of days the user has spent watching anime.\n",
    "- **Mean Score**: The average score given by the user to the anime they have watched.\n",
    "- **Watching**: The number of anime currently being watched by the user.\n",
    "- **Completed**: The number of anime completed by the user.\n",
    "- **On Hold**: The number of anime on hold by the user.\n",
    "- **Dropped**: The number of anime dropped by the user.\n",
    "- **Plan to Watch**: The number of anime the user plans to watch in the future.\n",
    "- **Total Entries**: The total number of anime entries in the user's list.\n",
    "- **Rewatched**: The number of anime rewatched by the user.\n",
    "- **Episodes Watched**: The total number of episodes watched by the user.\n",
    "\n",
    "### users-score-2023.csv\n",
    "\n",
    "- **user_id**: Unique ID for each user.\n",
    "- **Username**: The username of the user.\n",
    "- **anime_id**: Unique ID for each anime.\n",
    "- **Anime Title**: The title of the anime.\n",
    "- **rating**: The rating given by the user to the anime."
   ]
  },
  {
   "cell_type": "markdown",
   "metadata": {},
   "source": [
    "### General questions\n",
    "\n",
    "1) How does the demograpic of the anime community look like\n",
    "2) Show the distribution of gender in the dataset\n",
    "3) What genres are the most popular\n",
    "4) Does the number of episodes influence if an anime is droppped\n",
    "5) Which country has the highest user engagement\n",
    "6)  How do anime preferences differ by location? Are there specific genres or titles that are more popular in certain countries or regions?"
   ]
  },
  {
   "cell_type": "code",
   "execution_count": 3,
   "metadata": {},
   "outputs": [
    {
     "data": {
      "text/html": [
       "<div>\n",
       "<style scoped>\n",
       "    .dataframe tbody tr th:only-of-type {\n",
       "        vertical-align: middle;\n",
       "    }\n",
       "\n",
       "    .dataframe tbody tr th {\n",
       "        vertical-align: top;\n",
       "    }\n",
       "\n",
       "    .dataframe thead th {\n",
       "        text-align: right;\n",
       "    }\n",
       "</style>\n",
       "<table border=\"1\" class=\"dataframe\">\n",
       "  <thead>\n",
       "    <tr style=\"text-align: right;\">\n",
       "      <th></th>\n",
       "      <th>anime_id</th>\n",
       "      <th>Name</th>\n",
       "      <th>English name</th>\n",
       "      <th>Other name</th>\n",
       "      <th>Score</th>\n",
       "      <th>Genres</th>\n",
       "      <th>Synopsis</th>\n",
       "      <th>Type</th>\n",
       "      <th>Episodes</th>\n",
       "      <th>Aired</th>\n",
       "      <th>...</th>\n",
       "      <th>Studios</th>\n",
       "      <th>Source</th>\n",
       "      <th>Duration</th>\n",
       "      <th>Rating</th>\n",
       "      <th>Rank</th>\n",
       "      <th>Popularity</th>\n",
       "      <th>Favorites</th>\n",
       "      <th>Scored By</th>\n",
       "      <th>Members</th>\n",
       "      <th>Image URL</th>\n",
       "    </tr>\n",
       "  </thead>\n",
       "  <tbody>\n",
       "    <tr>\n",
       "      <th>0</th>\n",
       "      <td>1</td>\n",
       "      <td>Cowboy Bebop</td>\n",
       "      <td>Cowboy Bebop</td>\n",
       "      <td>カウボーイビバップ</td>\n",
       "      <td>8.75</td>\n",
       "      <td>Action, Award Winning, Sci-Fi</td>\n",
       "      <td>Crime is timeless. By the year 2071, humanity ...</td>\n",
       "      <td>TV</td>\n",
       "      <td>26.0</td>\n",
       "      <td>Apr 3, 1998 to Apr 24, 1999</td>\n",
       "      <td>...</td>\n",
       "      <td>Sunrise</td>\n",
       "      <td>Original</td>\n",
       "      <td>24 min per ep</td>\n",
       "      <td>R - 17+ (violence &amp; profanity)</td>\n",
       "      <td>41.0</td>\n",
       "      <td>43</td>\n",
       "      <td>78525</td>\n",
       "      <td>914193.0</td>\n",
       "      <td>1771505</td>\n",
       "      <td>https://cdn.myanimelist.net/images/anime/4/196...</td>\n",
       "    </tr>\n",
       "    <tr>\n",
       "      <th>1</th>\n",
       "      <td>5</td>\n",
       "      <td>Cowboy Bebop: Tengoku no Tobira</td>\n",
       "      <td>Cowboy Bebop: The Movie</td>\n",
       "      <td>カウボーイビバップ 天国の扉</td>\n",
       "      <td>8.38</td>\n",
       "      <td>Action, Sci-Fi</td>\n",
       "      <td>Another day, another bounty—such is the life o...</td>\n",
       "      <td>Movie</td>\n",
       "      <td>1.0</td>\n",
       "      <td>Sep 1, 2001</td>\n",
       "      <td>...</td>\n",
       "      <td>Bones</td>\n",
       "      <td>Original</td>\n",
       "      <td>1 hr 55 min</td>\n",
       "      <td>R - 17+ (violence &amp; profanity)</td>\n",
       "      <td>189.0</td>\n",
       "      <td>602</td>\n",
       "      <td>1448</td>\n",
       "      <td>206248.0</td>\n",
       "      <td>360978</td>\n",
       "      <td>https://cdn.myanimelist.net/images/anime/1439/...</td>\n",
       "    </tr>\n",
       "    <tr>\n",
       "      <th>2</th>\n",
       "      <td>6</td>\n",
       "      <td>Trigun</td>\n",
       "      <td>Trigun</td>\n",
       "      <td>トライガン</td>\n",
       "      <td>8.22</td>\n",
       "      <td>Action, Adventure, Sci-Fi</td>\n",
       "      <td>Vash the Stampede is the man with a $$60,000,0...</td>\n",
       "      <td>TV</td>\n",
       "      <td>26.0</td>\n",
       "      <td>Apr 1, 1998 to Sep 30, 1998</td>\n",
       "      <td>...</td>\n",
       "      <td>Madhouse</td>\n",
       "      <td>Manga</td>\n",
       "      <td>24 min per ep</td>\n",
       "      <td>PG-13 - Teens 13 or older</td>\n",
       "      <td>328.0</td>\n",
       "      <td>246</td>\n",
       "      <td>15035</td>\n",
       "      <td>356739.0</td>\n",
       "      <td>727252</td>\n",
       "      <td>https://cdn.myanimelist.net/images/anime/7/203...</td>\n",
       "    </tr>\n",
       "  </tbody>\n",
       "</table>\n",
       "<p>3 rows × 24 columns</p>\n",
       "</div>"
      ],
      "text/plain": [
       "   anime_id                             Name             English name  \\\n",
       "0         1                     Cowboy Bebop             Cowboy Bebop   \n",
       "1         5  Cowboy Bebop: Tengoku no Tobira  Cowboy Bebop: The Movie   \n",
       "2         6                           Trigun                   Trigun   \n",
       "\n",
       "       Other name Score                         Genres  \\\n",
       "0       カウボーイビバップ  8.75  Action, Award Winning, Sci-Fi   \n",
       "1  カウボーイビバップ 天国の扉  8.38                 Action, Sci-Fi   \n",
       "2           トライガン  8.22      Action, Adventure, Sci-Fi   \n",
       "\n",
       "                                            Synopsis   Type Episodes  \\\n",
       "0  Crime is timeless. By the year 2071, humanity ...     TV     26.0   \n",
       "1  Another day, another bounty—such is the life o...  Movie      1.0   \n",
       "2  Vash the Stampede is the man with a $$60,000,0...     TV     26.0   \n",
       "\n",
       "                         Aired  ...   Studios    Source       Duration  \\\n",
       "0  Apr 3, 1998 to Apr 24, 1999  ...   Sunrise  Original  24 min per ep   \n",
       "1                  Sep 1, 2001  ...     Bones  Original    1 hr 55 min   \n",
       "2  Apr 1, 1998 to Sep 30, 1998  ...  Madhouse     Manga  24 min per ep   \n",
       "\n",
       "                           Rating   Rank Popularity Favorites Scored By  \\\n",
       "0  R - 17+ (violence & profanity)   41.0         43     78525  914193.0   \n",
       "1  R - 17+ (violence & profanity)  189.0        602      1448  206248.0   \n",
       "2       PG-13 - Teens 13 or older  328.0        246     15035  356739.0   \n",
       "\n",
       "   Members                                          Image URL  \n",
       "0  1771505  https://cdn.myanimelist.net/images/anime/4/196...  \n",
       "1   360978  https://cdn.myanimelist.net/images/anime/1439/...  \n",
       "2   727252  https://cdn.myanimelist.net/images/anime/7/203...  \n",
       "\n",
       "[3 rows x 24 columns]"
      ]
     },
     "execution_count": 3,
     "metadata": {},
     "output_type": "execute_result"
    }
   ],
   "source": [
    "df_anime  = pd.read_csv(\"./data/anime-dataset-2023.csv\")\n",
    "df_anime.head(3)"
   ]
  },
  {
   "cell_type": "code",
   "execution_count": 4,
   "metadata": {},
   "outputs": [
    {
     "data": {
      "text/html": [
       "<div>\n",
       "<style scoped>\n",
       "    .dataframe tbody tr th:only-of-type {\n",
       "        vertical-align: middle;\n",
       "    }\n",
       "\n",
       "    .dataframe tbody tr th {\n",
       "        vertical-align: top;\n",
       "    }\n",
       "\n",
       "    .dataframe thead th {\n",
       "        text-align: right;\n",
       "    }\n",
       "</style>\n",
       "<table border=\"1\" class=\"dataframe\">\n",
       "  <thead>\n",
       "    <tr style=\"text-align: right;\">\n",
       "      <th></th>\n",
       "      <th>Mal ID</th>\n",
       "      <th>Username</th>\n",
       "      <th>Gender</th>\n",
       "      <th>Birthday</th>\n",
       "      <th>Location</th>\n",
       "      <th>Joined</th>\n",
       "      <th>Days Watched</th>\n",
       "      <th>Mean Score</th>\n",
       "      <th>Watching</th>\n",
       "      <th>Completed</th>\n",
       "      <th>On Hold</th>\n",
       "      <th>Dropped</th>\n",
       "      <th>Plan to Watch</th>\n",
       "      <th>Total Entries</th>\n",
       "      <th>Rewatched</th>\n",
       "      <th>Episodes Watched</th>\n",
       "    </tr>\n",
       "  </thead>\n",
       "  <tbody>\n",
       "    <tr>\n",
       "      <th>0</th>\n",
       "      <td>1</td>\n",
       "      <td>Xinil</td>\n",
       "      <td>Male</td>\n",
       "      <td>1985-03-04T00:00:00+00:00</td>\n",
       "      <td>California</td>\n",
       "      <td>2004-11-05T00:00:00+00:00</td>\n",
       "      <td>142.3</td>\n",
       "      <td>7.37</td>\n",
       "      <td>1.0</td>\n",
       "      <td>233.0</td>\n",
       "      <td>8.0</td>\n",
       "      <td>93.0</td>\n",
       "      <td>64.0</td>\n",
       "      <td>399.0</td>\n",
       "      <td>60.0</td>\n",
       "      <td>8458.0</td>\n",
       "    </tr>\n",
       "    <tr>\n",
       "      <th>1</th>\n",
       "      <td>3</td>\n",
       "      <td>Aokaado</td>\n",
       "      <td>Male</td>\n",
       "      <td>NaN</td>\n",
       "      <td>Oslo, Norway</td>\n",
       "      <td>2004-11-11T00:00:00+00:00</td>\n",
       "      <td>68.6</td>\n",
       "      <td>7.34</td>\n",
       "      <td>23.0</td>\n",
       "      <td>137.0</td>\n",
       "      <td>99.0</td>\n",
       "      <td>44.0</td>\n",
       "      <td>40.0</td>\n",
       "      <td>343.0</td>\n",
       "      <td>15.0</td>\n",
       "      <td>4072.0</td>\n",
       "    </tr>\n",
       "    <tr>\n",
       "      <th>2</th>\n",
       "      <td>4</td>\n",
       "      <td>Crystal</td>\n",
       "      <td>Female</td>\n",
       "      <td>NaN</td>\n",
       "      <td>Melbourne, Australia</td>\n",
       "      <td>2004-11-13T00:00:00+00:00</td>\n",
       "      <td>212.8</td>\n",
       "      <td>6.68</td>\n",
       "      <td>16.0</td>\n",
       "      <td>636.0</td>\n",
       "      <td>303.0</td>\n",
       "      <td>0.0</td>\n",
       "      <td>45.0</td>\n",
       "      <td>1000.0</td>\n",
       "      <td>10.0</td>\n",
       "      <td>12781.0</td>\n",
       "    </tr>\n",
       "  </tbody>\n",
       "</table>\n",
       "</div>"
      ],
      "text/plain": [
       "   Mal ID Username  Gender                   Birthday              Location  \\\n",
       "0       1    Xinil    Male  1985-03-04T00:00:00+00:00            California   \n",
       "1       3  Aokaado    Male                        NaN          Oslo, Norway   \n",
       "2       4  Crystal  Female                        NaN  Melbourne, Australia   \n",
       "\n",
       "                      Joined  Days Watched  Mean Score  Watching  Completed  \\\n",
       "0  2004-11-05T00:00:00+00:00         142.3        7.37       1.0      233.0   \n",
       "1  2004-11-11T00:00:00+00:00          68.6        7.34      23.0      137.0   \n",
       "2  2004-11-13T00:00:00+00:00         212.8        6.68      16.0      636.0   \n",
       "\n",
       "   On Hold  Dropped  Plan to Watch  Total Entries  Rewatched  Episodes Watched  \n",
       "0      8.0     93.0           64.0          399.0       60.0            8458.0  \n",
       "1     99.0     44.0           40.0          343.0       15.0            4072.0  \n",
       "2    303.0      0.0           45.0         1000.0       10.0           12781.0  "
      ]
     },
     "execution_count": 4,
     "metadata": {},
     "output_type": "execute_result"
    }
   ],
   "source": [
    "df_user_details = pd.read_csv(\"./data/users-details-2023.csv\")\n",
    "df_user_details.head(3)"
   ]
  },
  {
   "cell_type": "code",
   "execution_count": 5,
   "metadata": {},
   "outputs": [
    {
     "data": {
      "text/html": [
       "<div>\n",
       "<style scoped>\n",
       "    .dataframe tbody tr th:only-of-type {\n",
       "        vertical-align: middle;\n",
       "    }\n",
       "\n",
       "    .dataframe tbody tr th {\n",
       "        vertical-align: top;\n",
       "    }\n",
       "\n",
       "    .dataframe thead th {\n",
       "        text-align: right;\n",
       "    }\n",
       "</style>\n",
       "<table border=\"1\" class=\"dataframe\">\n",
       "  <thead>\n",
       "    <tr style=\"text-align: right;\">\n",
       "      <th></th>\n",
       "      <th>user_id</th>\n",
       "      <th>Username</th>\n",
       "      <th>anime_id</th>\n",
       "      <th>Anime Title</th>\n",
       "      <th>rating</th>\n",
       "    </tr>\n",
       "  </thead>\n",
       "  <tbody>\n",
       "    <tr>\n",
       "      <th>0</th>\n",
       "      <td>1</td>\n",
       "      <td>Xinil</td>\n",
       "      <td>21</td>\n",
       "      <td>One Piece</td>\n",
       "      <td>9</td>\n",
       "    </tr>\n",
       "    <tr>\n",
       "      <th>1</th>\n",
       "      <td>1</td>\n",
       "      <td>Xinil</td>\n",
       "      <td>48</td>\n",
       "      <td>.hack//Sign</td>\n",
       "      <td>7</td>\n",
       "    </tr>\n",
       "    <tr>\n",
       "      <th>2</th>\n",
       "      <td>1</td>\n",
       "      <td>Xinil</td>\n",
       "      <td>320</td>\n",
       "      <td>A Kite</td>\n",
       "      <td>5</td>\n",
       "    </tr>\n",
       "  </tbody>\n",
       "</table>\n",
       "</div>"
      ],
      "text/plain": [
       "   user_id Username  anime_id  Anime Title  rating\n",
       "0        1    Xinil        21    One Piece       9\n",
       "1        1    Xinil        48  .hack//Sign       7\n",
       "2        1    Xinil       320       A Kite       5"
      ]
     },
     "execution_count": 5,
     "metadata": {},
     "output_type": "execute_result"
    }
   ],
   "source": [
    "df_user_score = pd.read_csv(\"./data/users-score-2023.csv\")\n",
    "df_user_score.head(3)"
   ]
  },
  {
   "cell_type": "markdown",
   "metadata": {},
   "source": [
    "## Demographic Overview\n",
    "\n",
    "The demographic data available in the dataset is limited due to a significant number of users not providing their birthdate information. As a result, the insights derived from this data may not be fully representative of the broader anime fanbase. This limitation should be considered when interpreting the results."
   ]
  },
  {
   "cell_type": "code",
   "execution_count": 6,
   "metadata": {},
   "outputs": [
    {
     "name": "stdout",
     "output_type": "stream",
     "text": [
      "22.982 % of the users have given their birthday\n",
      "77.018 % of the dataset is NaN\n"
     ]
    },
    {
     "data": {
      "text/html": [
       "<div>\n",
       "<style scoped>\n",
       "    .dataframe tbody tr th:only-of-type {\n",
       "        vertical-align: middle;\n",
       "    }\n",
       "\n",
       "    .dataframe tbody tr th {\n",
       "        vertical-align: top;\n",
       "    }\n",
       "\n",
       "    .dataframe thead th {\n",
       "        text-align: right;\n",
       "    }\n",
       "</style>\n",
       "<table border=\"1\" class=\"dataframe\">\n",
       "  <thead>\n",
       "    <tr style=\"text-align: right;\">\n",
       "      <th></th>\n",
       "      <th>Birthday</th>\n",
       "    </tr>\n",
       "  </thead>\n",
       "  <tbody>\n",
       "    <tr>\n",
       "      <th>0</th>\n",
       "      <td>1985-03-04T00:00:00+00:00</td>\n",
       "    </tr>\n",
       "    <tr>\n",
       "      <th>5</th>\n",
       "      <td>1988-01-25T00:00:00+00:00</td>\n",
       "    </tr>\n",
       "    <tr>\n",
       "      <th>6</th>\n",
       "      <td>1988-02-22T00:00:00+00:00</td>\n",
       "    </tr>\n",
       "    <tr>\n",
       "      <th>11</th>\n",
       "      <td>1990-02-09T00:00:00+00:00</td>\n",
       "    </tr>\n",
       "    <tr>\n",
       "      <th>12</th>\n",
       "      <td>1983-11-09T00:00:00+00:00</td>\n",
       "    </tr>\n",
       "    <tr>\n",
       "      <th>...</th>\n",
       "      <td>...</td>\n",
       "    </tr>\n",
       "    <tr>\n",
       "      <th>731266</th>\n",
       "      <td>1994-08-20T00:00:00+00:00</td>\n",
       "    </tr>\n",
       "    <tr>\n",
       "      <th>731269</th>\n",
       "      <td>1996-12-07T00:00:00+00:00</td>\n",
       "    </tr>\n",
       "    <tr>\n",
       "      <th>731270</th>\n",
       "      <td>1991-12-11T00:00:00+00:00</td>\n",
       "    </tr>\n",
       "    <tr>\n",
       "      <th>731280</th>\n",
       "      <td>1997-12-24T00:00:00+00:00</td>\n",
       "    </tr>\n",
       "    <tr>\n",
       "      <th>731287</th>\n",
       "      <td>1993-01-30T00:00:00+00:00</td>\n",
       "    </tr>\n",
       "  </tbody>\n",
       "</table>\n",
       "<p>168068 rows × 1 columns</p>\n",
       "</div>"
      ],
      "text/plain": [
       "                         Birthday\n",
       "0       1985-03-04T00:00:00+00:00\n",
       "5       1988-01-25T00:00:00+00:00\n",
       "6       1988-02-22T00:00:00+00:00\n",
       "11      1990-02-09T00:00:00+00:00\n",
       "12      1983-11-09T00:00:00+00:00\n",
       "...                           ...\n",
       "731266  1994-08-20T00:00:00+00:00\n",
       "731269  1996-12-07T00:00:00+00:00\n",
       "731270  1991-12-11T00:00:00+00:00\n",
       "731280  1997-12-24T00:00:00+00:00\n",
       "731287  1993-01-30T00:00:00+00:00\n",
       "\n",
       "[168068 rows x 1 columns]"
      ]
     },
     "execution_count": 6,
     "metadata": {},
     "output_type": "execute_result"
    }
   ],
   "source": [
    "'''\n",
    "The code snippet below calculates the percentage of users who have provided their birthdate \n",
    "and the percentage of missing values (NaN) in the dataset.\n",
    "It also shows the date format used\n",
    "'''\n",
    "birthdays = df_user_details[[\"Birthday\"]].dropna()\n",
    "total = len(df_user_details[\"Birthday\"])\n",
    "num_birthdays = len(df_user_details[\"Birthday\"].dropna())\n",
    "num_nan = total - num_birthdays\n",
    "ratio_factor = 100 / total\n",
    "\n",
    "print(f\"{(num_birthdays * ratio_factor):.3f} % of the users have given their birthday\")\n",
    "print(f\"{(num_nan * ratio_factor):.3f} % of the dataset is NaN\")\n",
    "birthdays"
   ]
  },
  {
   "cell_type": "markdown",
   "metadata": {},
   "source": [
    "The dataset contains numerous errors in birth years, as evidenced by unrealistic ages. Specifically, some records suggest ages that are either negative, indicating birth years in the future, or exceedingly high beyond typical human lifespans."
   ]
  },
  {
   "cell_type": "code",
   "execution_count": 7,
   "metadata": {},
   "outputs": [
    {
     "name": "stdout",
     "output_type": "stream",
     "text": [
      "[   1   97  666 1000 1321 1337 1712 1730 1800 1851 1886 1900 1930 1931\n",
      " 1932 1933 1934 1935 1936 1937 1938 1939 1940 1941 1942 1943 1944 1945\n",
      " 1946 1947 1948 1949 1950 1951 1952 1953 1954 1955 1956 1957 1958 1959\n",
      " 1960 1961 1962 1963 1964 1965 1966 1967 1968 1969 1970 1971 1972 1973\n",
      " 1974 1975 1976 1977 1978 1979 1980 1981 1982 1983 1984 1985 1986 1987\n",
      " 1988 1989 1990 1991 1992 1993 1994 1995 1996 1997 1998 1999 2000 2001\n",
      " 2002 2003 2004 2005 2006 2007 2008 2009 2010 2011 2012 2013 2014 2015\n",
      " 2016 2017 2018 2019 2020 2021 2022 2023 2024 2100] \n",
      "\n",
      "[ 1  2  3  4  5  6  7  8  9 10 11 12] \n",
      "\n"
     ]
    }
   ],
   "source": [
    "\n",
    "'''\n",
    "The code snippet below preprocesses the given birthday into years and months.\n",
    "We should keep in mind that the data is from 2023 so we calculate the age until this year.\n",
    "'''\n",
    "birthdays_data = birthdays.to_numpy().flatten()\n",
    "test_birth = birthdays_data[0]\n",
    "data = [date.split(\"-\") for date in birthdays_data]\n",
    "\n",
    "# extract the year from the birthday\n",
    "birth_years = np.array([int(year[0]) for year in data])\n",
    "unique_birth_years = np.unique(birth_years)\n",
    "print(unique_birth_years, \"\\n\")\n",
    "\n",
    "# extract the birth month from\n",
    "birth_months = np.array([int(month[1]) for month in data])\n",
    "unique_birth_months = np.unique(birth_months)\n",
    "print(unique_birth_months, \"\\n\")\n"
   ]
  },
  {
   "cell_type": "code",
   "execution_count": 8,
   "metadata": {},
   "outputs": [
    {
     "name": "stdout",
     "output_type": "stream",
     "text": [
      "[38 35 35 ... 32 26 30]\n",
      "The filterd list contains 167944 valid ages\n",
      "The original size if the list is 168068\n",
      "The number of errors are 124\n"
     ]
    }
   ],
   "source": [
    "'''\n",
    "Convert the birth year into age then filter between ages of 10 - 100\n",
    "'''\n",
    "ages = 2023 - birth_years\n",
    "ages = ages[(ages >= 10) & (ages <= 100)]\n",
    "num_valid_ages = ages.shape[0]\n",
    "num_total_given = birth_years.shape[0]\n",
    "print(ages)\n",
    "print(f\"The filterd list contains {num_valid_ages} valid ages\")\n",
    "print(f\"The original size if the list is {num_total_given}\")\n",
    "print(f\"The number of errors are {num_total_given - num_valid_ages}\")"
   ]
  },
  {
   "cell_type": "markdown",
   "metadata": {},
   "source": [
    "### Analysis of Age Distribution in the Fanbase\n",
    "The discrete age distribution chart indicates that the age distribution of the fanbase approximates a normal distribution, characterized by a clear central peak and symmetric tapering at both ends. The bulk of the fanbase ages are concentrated within the 20-40 year range, suggesting that this demographic is the most represented within the group."
   ]
  },
  {
   "cell_type": "code",
   "execution_count": 9,
   "metadata": {},
   "outputs": [
    {
     "data": {
      "image/png": "[encoded data removed]",
      "text/plain": [
       "<Figure size 1000x600 with 2 Axes>"
      ]
     },
     "metadata": {},
     "output_type": "display_data"
    }
   ],
   "source": [
    "# plot the distribution of the valid ages\n",
    "\n",
    "fig, axes = plt.subplots(ncols=2, figsize=(10, 6))\n",
    "\n",
    "# display distrubution with histogramm\n",
    "axes[0].set_title(\"Distribution of valid ages\")\n",
    "axes[0].set_ylabel(\"Age\")\n",
    "axes[0].set_xlabel(\"Frequency\")\n",
    "axes[0].hist(ages)\n",
    "\n",
    "# display discrete ages\n",
    "unique_ages, counts = np.unique(ages, return_counts=True)\n",
    "axes[1].set_title(\"Discrete age distribution\")\n",
    "axes[1].set_ylabel(\"Age\")\n",
    "axes[1].set_xlabel(\"Frequency\")\n",
    "axes[1].bar(unique_ages, counts)\n",
    "\n",
    "plt.show();"
   ]
  },
  {
   "cell_type": "markdown",
   "metadata": {},
   "source": [
    "## MAL Fanbase Gender Distribution Report\n",
    "\n",
    "### Executive Summary\n",
    "\n",
    "This report analyzes the gender distribution of the MAL fanbase. It notes significant data gaps, with over 69% of gender data missing. The available data shows a majority of male participants among those who reported.\n",
    "\n",
    "### Data Summary\n",
    "\n",
    "- **Male**: 126,984\n",
    "- **Female**: 96,485\n",
    "- **Non-Binary**: 914\n",
    "\n",
    "Only 30.683% of the data entries include gender information.\n",
    "\n",
    "### Key Findings\n",
    "\n",
    "1. **Higher Male Reporting**: Males are more prevalent in the dataset, accounting for 56.6% of the given responses.\n",
    "2. **Significant Missing Data**: The high percentage of missing data limits the ability to make conclusive statements about the entire fanbase.\n",
    "\n",
    "### Conclusion\n",
    "\n",
    "The analysis indicates a male predominance among the reporting users. However, the large amount of missing data suggests that these findings may not fully represent the entire fanbase. Enhanced data collection efforts are recommended for more accurate insights.\n"
   ]
  },
  {
   "cell_type": "code",
   "execution_count": 10,
   "metadata": {},
   "outputs": [
    {
     "name": "stdout",
     "output_type": "stream",
     "text": [
      "This dataset contains 30.683 % given values\n",
      "69.317 % of the data are null values\n"
     ]
    }
   ],
   "source": [
    "gender_total = df_user_details[[\"Gender\"]]\n",
    "gender_given = gender_total.dropna()\n",
    "num_given_gender = gender_total.dropna().shape[0]\n",
    "gender_ratio = 100 / gender_total.shape[0]\n",
    "print(f\"This dataset contains {(gender_ratio * num_given_gender):.3f} % given values\")\n",
    "print(f\"{(100 - gender_ratio * num_given_gender):.3f} % of the data are null values\")"
   ]
  },
  {
   "cell_type": "code",
   "execution_count": 11,
   "metadata": {},
   "outputs": [
    {
     "name": "stdout",
     "output_type": "stream",
     "text": [
      "Gender    \n",
      "Male          126984\n",
      "Female         96485\n",
      "Non-Binary       914\n",
      "Name: count, dtype: int64\n"
     ]
    },
    {
     "data": {
      "image/png": "[encoded data removed]",
      "text/plain": [
       "<Figure size 640x480 with 1 Axes>"
      ]
     },
     "metadata": {},
     "output_type": "display_data"
    }
   ],
   "source": [
    "# for display convert male to 1 and female to 0\n",
    "gender_counts = gender_given.value_counts()\n",
    "print(gender_counts)\n",
    "\n",
    "labels = gender_counts.index\n",
    "sizes = gender_counts.values\n",
    "plt.title(\"Gender ratio\")\n",
    "plt.pie(sizes, labels=labels, startangle=90, autopct='%1.1f%%')\n",
    "plt.show();\n"
   ]
  },
  {
   "cell_type": "markdown",
   "metadata": {},
   "source": [
    "## Genre Popularity\n",
    "\n",
    "### Key Findings\n",
    "- High Performance: Genres like Award Winning and Mystery have the highest average scores, indicating strong popularity or higher quality content in these categories.\n",
    "- Adult Content Popularity: Romance, Ecchi, and Hentai genres also scored relatively high, suggesting a significant market segment interested in adult themes.\n",
    "- Genre Distribution: The diversity in score distribution across genres such as Action, Supernatural, and Drama shows varied audience preferences."
   ]
  },
  {
   "cell_type": "code",
   "execution_count": 12,
   "metadata": {},
   "outputs": [
    {
     "name": "stdout",
     "output_type": "stream",
     "text": [
      "                                   Genres Score\n",
      "0          [Action, AwardWinning, Sci-Fi]  8.75\n",
      "1                        [Action, Sci-Fi]  8.38\n",
      "2             [Action, Adventure, Sci-Fi]  8.22\n",
      "3  [Action, Drama, Mystery, Supernatural]  7.25\n",
      "4      [Adventure, Fantasy, Supernatural]  6.94\n"
     ]
    }
   ],
   "source": [
    "# preprocess the data\n",
    "genre_rating = df_anime[[\"Genres\", \"Score\"]]\n",
    "genre_rating.loc[:, \"Score\"] = genre_rating[\"Score\"].apply(lambda x: 0 if x == \"UNKNOWN\" else float(x))\n",
    "genre_rating.loc[:, \"Genres\"] = genre_rating[\"Genres\"].apply(lambda x: x.replace(\" \", \"\"))\n",
    "genre_rating.loc[:, \"Genres\"] = genre_rating[\"Genres\"].apply(lambda x: x.split(\",\"))\n",
    "print(genre_rating.head(5))"
   ]
  },
  {
   "cell_type": "code",
   "execution_count": 13,
   "metadata": {},
   "outputs": [
    {
     "name": "stdout",
     "output_type": "stream",
     "text": [
      "\n",
      "          Genres Score  Count\n",
      "0        Action  8.75      1\n",
      "0  AwardWinning  8.75      1\n",
      "0        Sci-Fi  8.75      1\n",
      "1        Action  8.38      1\n",
      "1        Sci-Fi  8.38      1\n"
     ]
    }
   ],
   "source": [
    "# extract each genre\n",
    "genre_rating = genre_rating.explode(\"Genres\")\n",
    "genre_rating[\"Count\"] = 1\n",
    "print(\"\\n\", genre_rating.head(5))"
   ]
  },
  {
   "cell_type": "code",
   "execution_count": 14,
   "metadata": {},
   "outputs": [
    {
     "name": "stdout",
     "output_type": "stream",
     "text": [
      "         Genres     Score  Count Avg_Score\n",
      "21      UNKNOWN  10265.43   4929   2.08266\n",
      "2    AvantGarde   2407.36    804  2.994229\n",
      "9       Fantasy  21691.78   5306  4.088161\n",
      "17  SliceofLife   7667.19   1755  4.368769\n",
      "5        Comedy  33071.41   7142  4.630553 \n",
      "\n",
      "['Action' 'Adventure' 'AvantGarde' 'AwardWinning' 'BoysLove' 'Comedy'\n",
      " 'Drama' 'Ecchi' 'Erotica' 'Fantasy' 'GirlsLove' 'Gourmet' 'Hentai'\n",
      " 'Horror' 'Mystery' 'Romance' 'Sci-Fi' 'SliceofLife' 'Sports'\n",
      " 'Supernatural' 'Suspense' 'UNKNOWN']\n"
     ]
    }
   ],
   "source": [
    "# aggregate and take the average\n",
    "grouped_genres = genre_rating.groupby(\"Genres\").agg({\n",
    "    \"Score\": \"sum\",\n",
    "    \"Count\" : \"sum\"\n",
    "}).reset_index()\n",
    "\n",
    "grouped_genres[\"Avg_Score\"] = grouped_genres[\"Score\"] / grouped_genres[\"Count\"]\n",
    "grouped_genres = grouped_genres.sort_values(\"Avg_Score\")\n",
    "unique_genres = np.unique(grouped_genres[\"Genres\"])\n",
    "print(grouped_genres.head(5), \"\\n\")\n",
    "print(unique_genres)"
   ]
  },
  {
   "cell_type": "code",
   "execution_count": 15,
   "metadata": {},
   "outputs": [
    {
     "data": {
      "image/png": "[encoded data removed]",
      "text/plain": [
       "<Figure size 640x480 with 1 Axes>"
      ]
     },
     "metadata": {},
     "output_type": "display_data"
    }
   ],
   "source": [
    "# display the different genres\n",
    "labels = grouped_genres[\"Genres\"]\n",
    "colors = plt.cm.viridis(np.linspace(0, 1, len(labels)))\n",
    "plt.title(\"Genres popularity by avg score\")\n",
    "plt.barh(labels, grouped_genres[\"Avg_Score\"], color=colors)\n",
    "plt.xlabel(\"Avg Score\")\n",
    "plt.show();"
   ]
  },
  {
   "cell_type": "markdown",
   "metadata": {},
   "source": [
    "### Recommender specific\n",
    "\n",
    "1) What average rating does each user give\n",
    "2) Which genres do users rate the highest on average?\n",
    "3)  Are there any biases in the ratings? For example, do users tend to give higher ratings to more popular or well-known anime?\n",
    "4) How sparse is the user / item matrix"
   ]
  },
  {
   "cell_type": "markdown",
   "metadata": {},
   "source": [
    "## Average user rating distribution\n",
    "\n",
    "The data consists of individual user ratings. I aggregated these ratings at the user level to compute the average rating per user. The distribution of these average ratings was then visualized using a histogram.\n",
    "\n",
    "The histogram of average ratings shows a clear skew towards higher ratings, with most ratings clustered between 7 and 9. Here are the detailed findings:\n",
    "\n",
    "- Central Tendency: The mode of the distribution is in the 7-9 range, suggesting that users tend to rate content favorably.\n",
    "- Skewness: The distribution exhibits positive skewness, indicating a significant number of users who rate content even more favorably, with average ratings stretching towards 10."
   ]
  },
  {
   "cell_type": "code",
   "execution_count": 16,
   "metadata": {},
   "outputs": [
    {
     "data": {
      "image/png": "[encoded data removed]",
      "text/plain": [
       "<Figure size 640x480 with 1 Axes>"
      ]
     },
     "metadata": {},
     "output_type": "display_data"
    },
    {
     "ename": "",
     "evalue": "",
     "output_type": "error",
     "traceback": [
      "\u001b[1;31mThe Kernel crashed while executing code in the current cell or a previous cell. \n",
      "\u001b[1;31mPlease review the code in the cell(s) to identify a possible cause of the failure. \n",
      "\u001b[1;31mClick <a href='https://aka.ms/vscodeJupyterKernelCrash'>here</a> for more info. \n",
      "\u001b[1;31mView Jupyter <a href='command:jupyter.viewOutput'>log</a> for further details."
     ]
    }
   ],
   "source": [
    "# get the average rating of each user\n",
    "user_score = df_user_score[[\"user_id\", \"rating\"]].copy()\n",
    "user_score[\"count\"] = 1\n",
    "user_score_avg = user_score.groupby(\"user_id\").agg({\n",
    "    \"rating\": \"sum\",\n",
    "    \"count\" : \"sum\"\n",
    "})\n",
    "\n",
    "user_score_avg[\"avg_rating\"] = user_score_avg[\"rating\"] / user_score_avg[\"count\"]\n",
    "\n",
    "# plotting\n",
    "plt.title(\"Distribution average rating\")\n",
    "plt.xlabel(\"rating\")\n",
    "plt.ylabel(\"frequency\")\n",
    "plt.hist(user_score_avg[\"avg_rating\"], edgecolor=\"black\", linewidth=0.5)\n",
    "plt.show();"
   ]
  },
  {
   "cell_type": "markdown",
   "metadata": {},
   "source": []
  },
  {
   "cell_type": "code",
   "execution_count": 17,
   "metadata": {},
   "outputs": [],
   "source": [
    "sample = df_user_score.sample(4)\n",
    "\n",
    "# mapping row number to user_id\n",
    "def create_mapper(data: np.ndarray) -> dict:\n",
    "    row_counts = np.arange(len(data))\n",
    "    mapper = {}\n",
    "    for i in row_counts:\n",
    "        mapper[data[i]] = i\n",
    "    \n",
    "    return mapper\n",
    "\n",
    "def create_rating_matrix(df: pd.DataFrame) -> Tuple[Dict[int, int], Dict[int, int], np.ndarray]:\n",
    "\n",
    "    anime_id = np.unique(df[\"anime_id\"])\n",
    "    user_id = np.unique(df[\"user_id\"])\n",
    "\n",
    "    user_to_row = create_mapper(user_id)\n",
    "    anime_to_col = create_mapper(anime_id)\n",
    "\n",
    "    num_users = len(user_to_row)\n",
    "    num_animes = len(anime_to_col)\n",
    "    matrix = [[0] * num_animes for _ in range(num_users)]\n",
    "    matrix = np.array(matrix)\n",
    "\n",
    "    for user, i in user_to_row.items():\n",
    "        for anime, j in anime_to_col.items():\n",
    "            rating = df[(df[\"user_id\"] == user) & (df[\"anime_id\"] == anime)][\"rating\"].to_numpy()\n",
    "\n",
    "            if(len(rating) > 0):\n",
    "                matrix[i][j] = rating[0]\n",
    "\n",
    "    return user_to_row, anime_to_col, matrix\n",
    "\n",
    "if(not os.path.exists(\"./rating_matrix.npz\")):\n",
    "    row_to_user, col_to_anime, rating_matrix = create_rating_matrix(df_user_score)\n",
    "    np.savez(\"rating_matrix.npz\", rating_matrix=rating_matrix, row_to_user=row_to_user, col_to_anime=col_to_anime)\n",
    "    print(rating_matrix)"
   ]
  }
 ],
 "metadata": {
  "kernelspec": {
   "display_name": "Python 3",
   "language": "python",
   "name": "python3"
  },
  "language_info": {
   "codemirror_mode": {
    "name": "ipython",
    "version": 3
   },
   "file_extension": ".py",
   "mimetype": "text/x-python",
   "name": "python",
   "nbconvert_exporter": "python",
   "pygments_lexer": "ipython3",
   "version": "3.10.12"
  }
 },
 "nbformat": 4,
 "nbformat_minor": 2
}
