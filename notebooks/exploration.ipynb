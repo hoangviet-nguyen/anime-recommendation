{
 "cells": [
  {
   "cell_type": "markdown",
   "metadata": {},
   "source": [
    "### Data Exploration of the Anime Dataset\n",
    "\n",
    "In this notebook, we explore the [Anime Dataset 2023](https://www.kaggle.com/datasets/dbdmobile/myanimelist-dataset?select=users-score-2023.csv) to gain insights and prepare for training a recommendation model. The key objectives are:\n",
    "\n",
    "- Understand the structure and content of the dataset.\n",
    "- Experiment with different analyses to identify patterns or trends.\n",
    "- Assess whether other models can be applied to this dataset.\n",
    "  \n",
    "The final goal is to use these insights to train a recommendation model, which will be done in the [Model Notebook](./model.ipynb).\n"
   ]
  },
  {
   "cell_type": "code",
   "execution_count": 1,
   "metadata": {},
   "outputs": [
    {
     "name": "stderr",
     "output_type": "stream",
     "text": [
      "'kaggle' is not recognized as an internal or external command,\n",
      "operable program or batch file.\n",
      "Traceback (most recent call last):\n",
      "  File \"c:\\Users\\viety\\OneDrive\\Desktop\\Studium\\Freizeit\\anime-recommendation\\notebooks\\download.py\", line 25, in <module>\n",
      "    os.remove(os.path.join(data_dir, file))\n",
      "NameError: name 'file' is not defined\n"
     ]
    }
   ],
   "source": [
    "# download the data from the kaggle api\n",
    "!python download.py"
   ]
  }
 ],
 "metadata": {
  "kernelspec": {
   "display_name": "Python 3",
   "language": "python",
   "name": "python3"
  },
  "language_info": {
   "codemirror_mode": {
    "name": "ipython",
    "version": 3
   },
   "file_extension": ".py",
   "mimetype": "text/x-python",
   "name": "python",
   "nbconvert_exporter": "python",
   "pygments_lexer": "ipython3",
   "version": "3.9.2"
  }
 },
 "nbformat": 4,
 "nbformat_minor": 2
}
