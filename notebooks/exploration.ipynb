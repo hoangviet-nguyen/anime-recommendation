{
 "cells": [
  {
   "cell_type": "markdown",
   "metadata": {},
   "source": [
    "### Data Exploration of the Anime Dataset\n",
    "\n",
    "In this notebook, we explore the [Anime Dataset 2023](https://www.kaggle.com/datasets/dbdmobile/myanimelist-dataset?select=users-score-2023.csv) to gain insights and prepare for training a recommendation model. The key objectives are:\n",
    "\n",
    "- Understand the structure and content of the dataset.\n",
    "- Experiment with different analyses to identify patterns or trends.\n",
    "- Assess whether other models can be applied to this dataset.\n",
    "  \n",
    "The final goal is to use these insights to train a recommendation model, which will be done in the [Model Notebook](./model.ipynb).\n"
   ]
  },
  {
   "cell_type": "code",
   "execution_count": 7,
   "metadata": {},
   "outputs": [
    {
     "name": "stdout",
     "output_type": "stream",
     "text": [
      "Warning: Your Kaggle API key is readable by other users on this system! To fix this, you can run 'chmod 600 /home/zedster/.kaggle/kaggle.json'\n",
      "Dataset URL: https://www.kaggle.com/datasets/dbdmobile/myanimelist-dataset\n",
      "License(s): DbCL-1.0\n",
      "Downloading myanimelist-dataset.zip to ./data\n",
      "100%|█████████████████████████████████████▉| 1.79G/1.80G [00:50<00:00, 42.1MB/s]\n",
      "100%|██████████████████████████████████████| 1.80G/1.80G [00:50<00:00, 38.5MB/s]\n"
     ]
    }
   ],
   "source": [
    "# download the data from the kaggle api\n",
    "!python download.py"
   ]
  }
 ],
 "metadata": {
  "kernelspec": {
   "display_name": "Python 3",
   "language": "python",
   "name": "python3"
  },
  "language_info": {
   "codemirror_mode": {
    "name": "ipython",
    "version": 3
   },
   "file_extension": ".py",
   "mimetype": "text/x-python",
   "name": "python",
   "nbconvert_exporter": "python",
   "pygments_lexer": "ipython3",
   "version": "3.10.14"
  }
 },
 "nbformat": 4,
 "nbformat_minor": 2
}
